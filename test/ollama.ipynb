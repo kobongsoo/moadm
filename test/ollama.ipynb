{
 "cells": [
  {
   "cell_type": "code",
   "execution_count": null,
   "id": "0840beea-0c20-45f5-ab18-cb8766dbe140",
   "metadata": {},
   "outputs": [],
   "source": [
    "#!pip install ollama"
   ]
  },
  {
   "cell_type": "code",
   "execution_count": 1,
   "id": "e77ad750-eb66-4e59-94ec-4de03dca5b09",
   "metadata": {},
   "outputs": [],
   "source": [
    "import time\n",
    "import os\n",
    "import json\n",
    "import requests\n",
    "\n",
    "from requests.exceptions import Timeout\n",
    "\n",
    "# [2025-01-10] pip install ollama 설치\n",
    "from ollama import Client"
   ]
  },
  {
   "cell_type": "code",
   "execution_count": 2,
   "id": "125f568a-eab7-439b-8044-b7bae3bdf6ed",
   "metadata": {},
   "outputs": [],
   "source": [
    "def generate_text_ollama(sllm_model:str, prompt:str, \n",
    "                         system_prompt:str=\"\", host:str=\"http://localhost:11434\"):\n",
    "    error = 0\n",
    "    answer:str = \"\"\n",
    "    messages:list = []\n",
    "    start_time = time.time()\n",
    "    \n",
    "    # 메시지 설정\n",
    "    if len(system_prompt) > 0:\n",
    "        messages.append( {\"role\": \"system\", \"content\": system_prompt} )\n",
    "      \n",
    "    if len(prompt) > 0:\n",
    "        messages.append( {\"role\": \"user\", \"content\": prompt} )\n",
    "    \n",
    "    print(f'[generate_text_ollama]\\r\\nmessages={messages}')\n",
    "    \n",
    "    try:\n",
    "            \n",
    "        client = Client(host=host, headers={'x-some-header': 'some-value'})\n",
    "        \n",
    "        print(f'[generate_text_ollama]\\r\\client={client}')\n",
    "        \n",
    "        response = client.chat(model=sllm_model, messages=messages,)\n",
    "        \n",
    "        #print(f'[generate_text_ollama]\\r\\response={response}')\n",
    "        \n",
    "        answer=response.message.content\n",
    "        \n",
    "        return answer, error\n",
    "    except Timeout:\n",
    "        answer = f'The request timed out.=>max:{timeout}'\n",
    "        error = 1001\n",
    "        return answer, error\n",
    "    except Exception as e:\n",
    "        answer = f\"Error in API request: {e}\"\n",
    "        error = 1002\n",
    "        return answer, error"
   ]
  },
  {
   "cell_type": "code",
   "execution_count": 4,
   "id": "f7cdcd4f-3c29-4d62-93e1-25bc151f8462",
   "metadata": {},
   "outputs": [
    {
     "name": "stdout",
     "output_type": "stream",
     "text": [
      "[generate_text_ollama]\n",
      "messages=[{'role': 'user', 'content': '한국에 고유명절인 추석에 대해 간략히 설명해 주세요.'}]\n",
      "\\client=<ollama._client.Client object at 0x7f4313473be0>\n",
      "*시간 : 5.835571050643921\n",
      "추석(추산)은 한국의 고유한 연혁적 자신감과 문화적 가치를 강조하는 차세계적으로 유명한 전국적인 전 Traditional festival입니다. 이 때문에 세계장학재단(UNESCO)에서 2005년  UNESCO Intangible Cultural Heritage of Humanity에 추석을 등록했습니다.\n",
      "\n",
      "추석은 초윤계의 중반에 시작하는 세대 전환(세례)을 기념하며, 가족들과의 만남을 통해 가족의 건강한 관계와 공통의 감성, 생활 속에서의 교류를 극대화하는 기념일입니다. 이전에는 추석은 추위의 방치를 피해 가족들과 함께 동네 사람들과 함께 수탈(수수)을 여기고 감자를 심어 주말에 재밌게 보내었습니다.\n",
      "\n",
      "추석은 지방의 생활이 중심인 한국사에서도 중요한 역할을 하는 것으로, 전통적인 문화를 유지하고 가족과 동네 사람들과의 관계를 굳힐 수 있는 기회입니다. 또한 현대 생활에서도 가족, 가족간의 공감을 강조하고, 가족과의 교류를 통해 가족의 관계를 개선하는 기회를 제공합니다.\n",
      "\n",
      "추석은 한국사에서 중요한 역할을 하는데, 일반적으로 9월 14일부터 23일까지의 시간 동안 가족들이 휴식을 취하고 가족들과 함께 만나고, 가족과의 교류를 통해 공감과 가족관계를 강화합니다.\n",
      "0\n"
     ]
    }
   ],
   "source": [
    "start_time = time.time()  # 시작 시간 기록\n",
    "\n",
    "answer1, error = generate_text_ollama(sllm_model=\"mistral\", \n",
    "                                      prompt=\"한국에 고유명절인 추석에 대해 간략히 설명해 주세요.\"\n",
    "                                     )\n",
    "\n",
    "end_time = time.time()  # 종료 시간 기록\n",
    "execution_time = end_time - start_time  # 실행 시간 계산\n",
    "\n",
    "# Print the result\n",
    "print(f'*시간 : {execution_time}')\n",
    "\n",
    "print(answer1)\n",
    "\n",
    "print(error)"
   ]
  },
  {
   "cell_type": "code",
   "execution_count": null,
   "id": "211c60e1-ca79-4abc-8e06-3a3e62455c42",
   "metadata": {},
   "outputs": [],
   "source": [
    "import time\n",
    "from ollama import Client\n",
    "\n",
    "start_time = time.time()  # 시작 시간 기록\n",
    "\n",
    "client = Client(\n",
    "  host='http://localhost:11434',\n",
    "  headers={'x-some-header': 'some-value'}\n",
    ")\n",
    "response = client.chat(model='mistral', messages=[\n",
    "  {\n",
    "    'role': 'user',\n",
    "    'content': '제주대학교는 어디에 있는 대학교인가요?',\n",
    "  },\n",
    "])\n",
    "\n",
    "end_time = time.time()  # 종료 시간 기록\n",
    "execution_time = end_time - start_time  # 실행 시간 계산\n",
    "\n",
    "# Print the result\n",
    "print(f'*시간 : {execution_time}')\n"
   ]
  },
  {
   "cell_type": "code",
   "execution_count": null,
   "id": "8834e233-1dd5-41b6-98d9-9e09e10f997f",
   "metadata": {},
   "outputs": [],
   "source": [
    "response"
   ]
  },
  {
   "cell_type": "code",
   "execution_count": null,
   "id": "e79d15b0-be0e-4a77-87b3-cc6399a6945c",
   "metadata": {},
   "outputs": [],
   "source": [
    "response.message.content"
   ]
  },
  {
   "cell_type": "code",
   "execution_count": null,
   "id": "a4e12a87-07a9-432c-99b4-76a539fc35c3",
   "metadata": {},
   "outputs": [],
   "source": []
  }
 ],
 "metadata": {
  "kernelspec": {
   "display_name": "Python 3 (ipykernel)",
   "language": "python",
   "name": "python3"
  },
  "language_info": {
   "codemirror_mode": {
    "name": "ipython",
    "version": 3
   },
   "file_extension": ".py",
   "mimetype": "text/x-python",
   "name": "python",
   "nbconvert_exporter": "python",
   "pygments_lexer": "ipython3",
   "version": "3.9.7"
  }
 },
 "nbformat": 4,
 "nbformat_minor": 5
}
