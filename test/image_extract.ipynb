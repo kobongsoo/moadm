{
 "cells": [
  {
   "cell_type": "code",
   "execution_count": null,
   "id": "b9c345ad-11e9-443f-b51b-d8a186c4bbe4",
   "metadata": {},
   "outputs": [],
   "source": [
    "#------------------------------------------------------------------------------------------\n",
    "# [bong][2024-10-16] 이미지를 VISION 모델을 이용해서 ImageToText로 변환한후 변환된 text를 파일로저장하는 예제\n",
    "#------------------------------------------------------------------------------------------\n",
    "import os\n",
    "import time\n",
    "import numpy as np\n",
    "import sys\n",
    "import json\n",
    "from tqdm import tqdm \n",
    "import numpy as np\n",
    "import pandas as pd\n",
    "\n",
    "from utils import MyUtils\n",
    "from docs_func import is_image_file\n",
    "from vision import MY_Vision\n",
    "\n",
    "# settings.yaml 설정값 불러옴.\n",
    "myutils = MyUtils(yam_file_path='../data/docs_settings.yaml')\n",
    "settings = myutils.get_options()\n",
    "\n",
    "#-----------------------------------------------\n",
    "# Mpower Synap 추가\n",
    "from os import sys\n",
    "sys.path.append('../../../MpowerAI')\n",
    "from pympower.classes.mshaai import MShaAI\n",
    "\n",
    "shaai = MShaAI()\n",
    "#-----------------------------------------------\n",
    "# vision 모델 로딩\n",
    "myvision = MY_Vision(model_folder_path=settings['VISION_MODEL'], device=settings['VISION_DEVICE'])\n",
    "#-----------------------------------------------\n",
    "\n",
    "# global 인스턴스 dict로 정의\n",
    "global_instance:dict = {'myutils': myutils, 'settings': settings, 'myvision': myvision, \"shaai\": shaai}"
   ]
  },
  {
   "cell_type": "code",
   "execution_count": null,
   "id": "aeff516c-678c-4c64-9d16-c47adb3cb8f5",
   "metadata": {},
   "outputs": [],
   "source": [
    "from docs_func import extract_save_doc01\n",
    "\n",
    "# org 폴더 경로에서 이미지 파일목록들을 얻어옴.\n",
    "file_folder = \"../../sample/org\"\n",
    "filepaths = myutils.getListOfFiles(file_folder) # 폴더에 파일 path 얻어옴.\n",
    "\n",
    "# 추출 폴더 extra 폴더 생성\n",
    "extra_folder = file_folder.replace('/org', '/extra')\n",
    "print(f\"extra_folder:{extra_folder}\")\n",
    "if not os.path.exists(extra_folder):\n",
    "    os.makedirs(extra_folder)\n",
    "\n",
    "# 원본 org 폴더 파일들을 ImageToText 후 extra 폴더로 저장 \n",
    "for filepath in tqdm(filepaths):\n",
    "    tgtFilePath = filepath.replace('/org/', '/extra/') # org 폴더를 extran로 만듬\n",
    "    \n",
    "    # 파일이 이미지인지 확인.\n",
    "    mine_type=\"doc\"\n",
    "    if is_image_file(filepath)==True:\n",
    "        mine_type=\"img\"\n",
    "        error, imagetotext=extract_save_doc01(instance=global_instance, srcPath=filepath, tgtPath=tgtFilePath, mime_type=mine_type)\n",
    "    #print(f\"{tgtFilePath}=>mine:{mine_type}, error:{error}\")\n"
   ]
  }
 ],
 "metadata": {
  "kernelspec": {
   "display_name": "Python 3 (ipykernel)",
   "language": "python",
   "name": "python3"
  },
  "language_info": {
   "codemirror_mode": {
    "name": "ipython",
    "version": 3
   },
   "file_extension": ".py",
   "mimetype": "text/x-python",
   "name": "python",
   "nbconvert_exporter": "python",
   "pygments_lexer": "ipython3",
   "version": "3.9.7"
  }
 },
 "nbformat": 4,
 "nbformat_minor": 5
}
